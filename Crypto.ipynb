{
 "cells": [
  {
   "cell_type": "markdown",
   "metadata": {},
   "source": [
    "#### Load the library"
   ]
  },
  {
   "cell_type": "code",
   "execution_count": 1,
   "metadata": {},
   "outputs": [
    {
     "data": {
      "text/plain": [
       "<torch._C.Generator at 0x7f4f3c0616d0>"
      ]
     },
     "execution_count": 1,
     "metadata": {},
     "output_type": "execute_result"
    }
   ],
   "source": [
    "import torch\n",
    "import torchvision\n",
    "import crypten\n",
    "\n",
    "crypten.init()\n",
    "torch.set_num_threads(1)\n",
    "\n",
    "# Set random seed for reproducibility\n",
    "torch.manual_seed(1)"
   ]
  },
  {
   "cell_type": "markdown",
   "metadata": {},
   "source": [
    "#### Every user has a unique id associated with computation"
   ]
  },
  {
   "cell_type": "code",
   "execution_count": 2,
   "metadata": {},
   "outputs": [],
   "source": [
    "#### Load MNIST dataset"
   ]
  },
  {
   "cell_type": "code",
   "execution_count": 3,
   "metadata": {},
   "outputs": [],
   "source": [
    "n_epochs = 3\n",
    "batch_size_train = 70000\n",
    "batch_size_test = 20000\n",
    "learning_rate = 0.01\n",
    "momentum = 0.5\n",
    "log_interval = 10\n",
    "\n",
    "\n",
    "train_loader = torch.utils.data.DataLoader(\n",
    "  torchvision.datasets.MNIST('/tmp/', train=True, download=True,\n",
    "                             transform=torchvision.transforms.Compose([\n",
    "                               torchvision.transforms.ToTensor(),\n",
    "                               torchvision.transforms.Normalize(\n",
    "                                 (0.1307,), (0.3081,))\n",
    "                             ])),\n",
    "  batch_size=batch_size_train, shuffle=True)\n",
    "\n",
    "test_loader = torch.utils.data.DataLoader(\n",
    "  torchvision.datasets.MNIST('/tmp/', train=False, download=True,\n",
    "                             transform=torchvision.transforms.Compose([\n",
    "                               torchvision.transforms.ToTensor(),\n",
    "                               torchvision.transforms.Normalize(\n",
    "                                 (0.1307,), (0.3081,))\n",
    "                             ])),\n",
    "  batch_size=batch_size_test, shuffle=True)"
   ]
  },
  {
   "cell_type": "markdown",
   "metadata": {},
   "source": [
    "#### Explore the data"
   ]
  },
  {
   "cell_type": "code",
   "execution_count": 4,
   "metadata": {},
   "outputs": [
    {
     "name": "stdout",
     "output_type": "stream",
     "text": [
      "0 torch.Size([10000, 1, 28, 28])\n"
     ]
    }
   ],
   "source": [
    "test = enumerate(test_loader)\n",
    "batch_idx, (test_data, test_targets) = next(test)\n",
    "print(batch_idx, test_data.shape)"
   ]
  },
  {
   "cell_type": "markdown",
   "metadata": {},
   "source": [
    "#### Excrypt the MNIST data"
   ]
  },
  {
   "cell_type": "code",
   "execution_count": 5,
   "metadata": {},
   "outputs": [
    {
     "name": "stdout",
     "output_type": "stream",
     "text": [
      "Save Successful\n"
     ]
    }
   ],
   "source": [
    "from crypten import mpc\n",
    "\n",
    "# Specify file locations to save each piece of data\n",
    "filenames = {\n",
    "    \"train_data\": \"/tmp/traindata.pth\",\n",
    "    \"train_labels\": \"/tmp/trainlabels.pth\",\n",
    "    \"test_data\": \"/tmp/testdata.pth\",\n",
    "    \"test_labels\": \"/tmp/testlabels.pth\",\n",
    "}\n",
    "\n",
    "uid = 0\n",
    "\n",
    "# @mpc.run_multiprocess(world_size=1)\n",
    "def save_all_data():\n",
    "    # Load all the MNIST train data\n",
    "    datas = []\n",
    "    labels = []\n",
    "    for data,label in train_loader:\n",
    "        datas.append(data)\n",
    "        labels.append(label)\n",
    "    # print(datas[0].shape, labels[0].shape)\n",
    "    \n",
    "    # Save train data, labels\n",
    "    # crypten.save(datas[0], filenames[\"train_data\"], src=uid)\n",
    "    # crypten.save(labels[0], filenames[\"train_labels\"], src=uid)\n",
    "    cdatas = crypten.cryptensor(datas[0])\n",
    "    clabels = crypten.cryptensor(labels[0])\n",
    "    \n",
    "    # print(type(cdatas._tensor._tensor))\n",
    "    cdatas = cdatas._tensor._tensor\n",
    "    clabels = clabels._tensor._tensor\n",
    "    # print(clabels[0])\n",
    "    # Save using normal pytorch\n",
    "    # print(type(cdatas), type(clabels))\n",
    "    torch.save(cdatas, filenames[\"train_data\"])\n",
    "    torch.save(clabels, filenames[\"train_labels\"])\n",
    "    \n",
    "    # Load all the MNIST test data\n",
    "    datas = []\n",
    "    labels = []\n",
    "    for data,label in test_loader:\n",
    "        datas.append(data)\n",
    "        labels.append(label)\n",
    "    \n",
    "    # Save train data, labels\n",
    "    # crypten.save(datas[0], filenames[\"test_data\"], src=uid)\n",
    "    # crypten.save(labels[0], filenames[\"test_labels\"], src=uid)\n",
    "    \n",
    "    cdatas = crypten.cryptensor(datas[0])\n",
    "    clabels = crypten.cryptensor(labels[0])\n",
    "    \n",
    "    # print(type(cdatas._tensor._tensor))\n",
    "    cdatas = cdatas._tensor._tensor\n",
    "    clabels = clabels._tensor._tensor\n",
    "    \n",
    "    # Save using normal pytorch\n",
    "    # print(type(cdatas), type(clabels))\n",
    "    torch.save(cdatas, filenames[\"test_data\"])\n",
    "    torch.save(clabels, filenames[\"test_labels\"])\n",
    "    \n",
    "    print('Save Successful')\n",
    "\n",
    "    \n",
    "save_all_data()"
   ]
  },
  {
   "cell_type": "markdown",
   "metadata": {},
   "source": [
    "#### load the encrypted data"
   ]
  },
  {
   "cell_type": "code",
   "execution_count": 13,
   "metadata": {},
   "outputs": [],
   "source": [
    "# one_hot_labels = F.one_hot(torch.arange(0, 10), num_classes=10)\n",
    "\n",
    "label_dict = dict()\n",
    "# norm_train = () \n",
    "# norm_test = ()\n",
    "\n",
    "def load_train_data():\n",
    "    # Load the encrypted data\n",
    "    data_enc = torch.load(filenames[\"train_data\"]).float()\n",
    "    label_enc = torch.load(filenames[\"train_labels\"])\n",
    "    labels = torch.unique(label_enc).data.tolist()\n",
    "    global label_dict\n",
    "    label_dict = dict(zip(labels, range(0,10)))\n",
    "    data_enc = data_enc / data_enc.max(0, keepdim=True)[0]\n",
    "    # Find normalizing values\n",
    "#     x0_mean = torch.mean(data_enc, axis=0)\n",
    "#     x0_std = torch.std(data_enc, axis=0)\n",
    "#     x1_mean = torch.mean(data_enc, axis=1)\n",
    "#     x1_std = torch.std(data_enc, axis=1)\n",
    "    \n",
    "    # print(data_enc.shape)\n",
    "    # Crypten way of loading\n",
    "    # data_enc = crypten.load(filenames[\"train_data\"], src=uid)\n",
    "    # labels_enc = crypten.load(filenames[\"train_labels\"], src=uid)\n",
    "    return data_enc, label_enc\n",
    "\n",
    "def load_test_data():\n",
    "    # Load the encrypted data\n",
    "    data_enc = torch.load(filenames[\"test_data\"]).float()\n",
    "    label_enc = torch.load(filenames[\"test_labels\"])\n",
    "    data_enc = data_enc / data_enc.max(0, keepdim=True)[0]\n",
    "    # Crypten way of loading\n",
    "    # data_enc = crypten.load(filenames[\"train_data\"], src=uid)\n",
    "    # labels_enc = crypten.load(filenames[\"train_labels\"], src=uid)\n",
    "    return data_enc, label_enc\n",
    "            \n",
    "# _,_ = load_train_data()    "
   ]
  },
  {
   "cell_type": "code",
   "execution_count": 7,
   "metadata": {},
   "outputs": [],
   "source": [
    "# labels = range(10,20)\n",
    "# label_dict = dict(zip(labels, range(0,10)))\n",
    "# print(label_dict)\n"
   ]
  },
  {
   "cell_type": "markdown",
   "metadata": {},
   "source": [
    "#### Create custum dataset to load the encrypted data"
   ]
  },
  {
   "cell_type": "code",
   "execution_count": 14,
   "metadata": {},
   "outputs": [],
   "source": [
    "from torch.utils.data import Dataset, DataLoader\n",
    "\n",
    "class EncryptedMNIST(Dataset):\n",
    "  def __init__(self, train=True):\n",
    "    if train:\n",
    "        self.data, self.label = load_train_data()\n",
    "    else:\n",
    "        self.data, self.label = load_test_data()\n",
    "         \n",
    "  def __getitem__(self, index):\n",
    "    # print(self.data.shape)\n",
    "    img = self.data[index] # .float()\n",
    "    label = self.label[index]\n",
    "    # img = torchvision.transforms.Normalize(mean=(0.0, 0.0), std=(0.2, 0.2))(img)\n",
    "    return img, label_dict[label.item()]\n",
    " \n",
    "  def __len__(self):\n",
    "    return  len(self.data)"
   ]
  },
  {
   "cell_type": "markdown",
   "metadata": {},
   "source": [
    "#### Define loader for Encrypted data"
   ]
  },
  {
   "cell_type": "code",
   "execution_count": 15,
   "metadata": {},
   "outputs": [],
   "source": [
    "train_encrypt_mnist = EncryptedMNIST()\n",
    "train_loader_enc = torch.utils.data.DataLoader(train_encrypt_mnist, batch_size=256, shuffle=False)\n",
    "\n",
    "test_encrypt_mnist = EncryptedMNIST(train=False)\n",
    "test_loader_enc = torch.utils.data.DataLoader(test_encrypt_mnist, batch_size=1000, shuffle=False)\n"
   ]
  },
  {
   "cell_type": "code",
   "execution_count": 10,
   "metadata": {},
   "outputs": [],
   "source": [
    "# print(label_dict)\n",
    "# for data, label in train_loader_enc:\n",
    "#     print(data)"
   ]
  },
  {
   "cell_type": "markdown",
   "metadata": {},
   "source": [
    "#### Model to train encrypted MNIST"
   ]
  },
  {
   "cell_type": "code",
   "execution_count": 22,
   "metadata": {},
   "outputs": [],
   "source": [
    "import torch.nn as nn\n",
    "import torch.nn.functional as F\n",
    "import torch.optim as optim\n",
    "from torchvision import datasets, transforms\n",
    "from torch.optim.lr_scheduler import StepLR\n",
    "\n",
    "error = torch.nn.CrossEntropyLoss()\n",
    "\n",
    "class Net(nn.Module):\n",
    "    def __init__(self):\n",
    "        super(Net, self).__init__()\n",
    "        self.conv1 = nn.Conv2d(1, 32, 3, 1)\n",
    "        self.conv2 = nn.Conv2d(32, 64, 3, 1)\n",
    "        self.dropout1 = nn.Dropout2d(0.25)\n",
    "        self.dropout2 = nn.Dropout2d(0.5)\n",
    "        self.fc1 = nn.Linear(9216, 128)\n",
    "        self.fc2 = nn.Linear(128, 10)\n",
    "\n",
    "    def forward(self, x):\n",
    "        x = self.conv1(x)\n",
    "        x = F.relu(x)\n",
    "        x = self.conv2(x)\n",
    "        x = F.relu(x)\n",
    "        x = F.max_pool2d(x, 2)\n",
    "        x = self.dropout1(x)\n",
    "        x = torch.flatten(x, 1)\n",
    "        x = self.fc1(x)\n",
    "        x = F.relu(x)\n",
    "        x = self.dropout2(x)\n",
    "        x = self.fc2(x)\n",
    "        output = F.log_softmax(x, dim=1)\n",
    "        return output\n",
    "\n",
    "\n",
    "def train(model, device, train_loader, optimizer, epoch):\n",
    "    model.train()\n",
    "    for batch_idx, (data, target) in enumerate(train_loader):\n",
    "        data, target = data.to(device), target.to(device)\n",
    "        optimizer.zero_grad()\n",
    "        output = model(data)\n",
    "        # loss = F.nll_loss(output, target)\n",
    "        loss = error(output, target)\n",
    "        loss.backward()\n",
    "        optimizer.step()\n",
    "#         if batch_idx % 1000000== 0:\n",
    "#             print('Train Epoch: {} [{}/{} ({:.0f}%)]\\tLoss: {:.6f}'.format(\n",
    "#                 epoch, batch_idx * len(data), len(train_loader.dataset),\n",
    "#                 100. * batch_idx / len(train_loader), loss.item()))\n",
    "\n",
    "\n",
    "def test(model, device, test_loader):\n",
    "    model.eval()\n",
    "    test_loss = 0\n",
    "    correct = 0\n",
    "    with torch.no_grad():\n",
    "        for data, target in test_loader:\n",
    "            data, target = data.to(device), target.to(device)\n",
    "            output = model(data)\n",
    "            # test_loss = error(output, target)\n",
    "            test_loss += F.nll_loss(output, target, reduction='sum').item()  # sum up batch loss\n",
    "            pred = output.argmax(dim=1, keepdim=True)  # get the index of the max log-probability\n",
    "            correct += pred.eq(target.view_as(pred)).sum().item()\n",
    "\n",
    "    test_loss /= len(test_loader.dataset)\n",
    "\n",
    "    print('\\nTest set: Average loss: {:.4f}, Accuracy: {}/{} ({:.0f}%)\\n'.format(\n",
    "        test_loss, correct, len(test_loader.dataset),\n",
    "        100. * correct / len(test_loader.dataset)))\n"
   ]
  },
  {
   "cell_type": "code",
   "execution_count": 24,
   "metadata": {},
   "outputs": [
    {
     "name": "stdout",
     "output_type": "stream",
     "text": [
      "\n",
      "Test set: Average loss: 1.3499, Accuracy: 7697/10000 (77%)\n",
      "\n",
      "\n",
      "Test set: Average loss: 0.5533, Accuracy: 8636/10000 (86%)\n",
      "\n",
      "\n",
      "Test set: Average loss: 0.4296, Accuracy: 8870/10000 (89%)\n",
      "\n",
      "\n",
      "Test set: Average loss: 0.3798, Accuracy: 8965/10000 (90%)\n",
      "\n",
      "\n",
      "Test set: Average loss: 0.3534, Accuracy: 9025/10000 (90%)\n",
      "\n",
      "\n",
      "Test set: Average loss: 0.3359, Accuracy: 9068/10000 (91%)\n",
      "\n",
      "\n",
      "Test set: Average loss: 0.3248, Accuracy: 9086/10000 (91%)\n",
      "\n",
      "\n",
      "Test set: Average loss: 0.3167, Accuracy: 9106/10000 (91%)\n",
      "\n",
      "\n",
      "Test set: Average loss: 0.3090, Accuracy: 9120/10000 (91%)\n",
      "\n",
      "\n",
      "Test set: Average loss: 0.3051, Accuracy: 9131/10000 (91%)\n",
      "\n",
      "\n",
      "Test set: Average loss: 0.3012, Accuracy: 9137/10000 (91%)\n",
      "\n",
      "\n",
      "Test set: Average loss: 0.2984, Accuracy: 9142/10000 (91%)\n",
      "\n",
      "\n",
      "Test set: Average loss: 0.2965, Accuracy: 9147/10000 (91%)\n",
      "\n",
      "\n",
      "Test set: Average loss: 0.2948, Accuracy: 9157/10000 (92%)\n",
      "\n"
     ]
    }
   ],
   "source": [
    "device = 'cuda:0'\n",
    "\n",
    "model = Net().to(device)\n",
    "optimizer = optim.Adadelta(model.parameters(), lr=0.01)\n",
    "\n",
    "scheduler = StepLR(optimizer, step_size=1, gamma=0.8)\n",
    "for epoch in range(1, 14 + 1):\n",
    "    train(model, device, train_loader_enc, optimizer, epoch)\n",
    "    test(model, device, test_loader_enc)\n",
    "    scheduler.step()\n",
    "\n",
    "if True:\n",
    "    torch.save(model.state_dict(), \"/tmp/mnist_cnn.pt\")"
   ]
  },
  {
   "cell_type": "code",
   "execution_count": null,
   "metadata": {},
   "outputs": [],
   "source": []
  }
 ],
 "metadata": {
  "kernelspec": {
   "display_name": "Python [conda env:crypto_p37]",
   "language": "python",
   "name": "conda-env-crypto_p37-py"
  },
  "language_info": {
   "codemirror_mode": {
    "name": "ipython",
    "version": 3
   },
   "file_extension": ".py",
   "mimetype": "text/x-python",
   "name": "python",
   "nbconvert_exporter": "python",
   "pygments_lexer": "ipython3",
   "version": "3.7.7"
  }
 },
 "nbformat": 4,
 "nbformat_minor": 2
}
